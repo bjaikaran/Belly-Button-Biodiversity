{
 "cells": [
  {
   "cell_type": "code",
   "execution_count": 7,
   "metadata": {},
   "outputs": [],
   "source": [
    "import os\n",
    "import pandas as pd\n",
    "import numpy as np\n",
    "import sqlalchemy as sqla\n",
    "from sqlalchemy.ext.automap import automap_base\n",
    "import random as rnd"
   ]
  },
  {
   "cell_type": "code",
   "execution_count": 8,
   "metadata": {},
   "outputs": [],
   "source": [
    "path = \"DataSets/belly_button_biodiversity.sqlite\"\n",
    "engine = sqla.create_engine(\"sqlite:///\"+path, echo=False)\n",
    "Base = sqla.ext.automap.automap_base()\n",
    "Base.prepare(engine, reflect=True)\n",
    "\n",
    "# Binding the SQLITE engine to the current Session (locking file)\n",
    "session = sqla.orm.Session(bind=engine)"
   ]
  },
  {
   "cell_type": "code",
   "execution_count": 9,
   "metadata": {},
   "outputs": [
    {
     "name": "stdout",
     "output_type": "stream",
     "text": [
      "otu\n",
      "samples\n",
      "samples_metadata\n",
      "___________________________\n",
      "Total of 3 tables\n"
     ]
    }
   ],
   "source": [
    "# Verify tables and structure from SQLite database\n",
    "inspector = sqla.inspect(engine)\n",
    "tbl_names = inspector.get_table_names()\n",
    "i = 0 \n",
    "for table in tbl_names:\n",
    "    print(table)\n",
    "    i = i+1\n",
    "print(\"___________________________\\nTotal of %s tables\" %i)"
   ]
  },
  {
   "cell_type": "code",
   "execution_count": 4,
   "metadata": {},
   "outputs": [],
   "source": [
    "OTU = Base.classes.otu\n",
    "SAMPLES = Base.classes.samples\n",
    "META = Base.classes.samples_metadata"
   ]
  },
  {
   "cell_type": "code",
   "execution_count": 10,
   "metadata": {},
   "outputs": [],
   "source": [
    "OTU_COLS = []\n",
    "columns = inspector.get_columns(\"otu\")\n",
    "for col in columns:\n",
    "    OTU_COLS.append(col[\"name\"])"
   ]
  },
  {
   "cell_type": "code",
   "execution_count": 11,
   "metadata": {},
   "outputs": [],
   "source": [
    "SAMPLE_COLS = []\n",
    "columns = inspector.get_columns(\"samples\")\n",
    "for col in columns:\n",
    "    SAMPLE_COLS.append(col[\"name\"])"
   ]
  },
  {
   "cell_type": "code",
   "execution_count": 12,
   "metadata": {},
   "outputs": [],
   "source": [
    "META_COLS = []\n",
    "columns = inspector.get_columns(\"samples_metadata\")\n",
    "for col in columns:\n",
    "    META_COLS.append(col[\"name\"])"
   ]
  },
  {
   "cell_type": "code",
   "execution_count": 13,
   "metadata": {},
   "outputs": [],
   "source": [
    "OTU_df = pd.read_sql(\"SELECT * FROM otu\", con=engine, columns=[OTU_COLS], index_col=\"otu_id\")\n",
    "SAMPLES_df = pd.read_sql(\"SELECT * FROM samples\", con=engine, columns=[SAMPLE_COLS], index_col=\"otu_id\")\n",
    "META_ALL_df = pd.read_sql(\"SELECT * FROM samples_metadata\", con=engine, columns=[META_COLS])\n",
    "META_df = pd.read_sql(\"SELECT AGE, UPPER(BBTYPE) as BBTYPE, UPPER(ETHNICITY) as ETHNICITY, UPPER(GENDER) as GENDER, UPPER(LOCATION) as LOCATION, SAMPLEID FROM samples_metadata\", con=engine, columns=[META_COLS])\n",
    "META_WFREQ = pd.read_sql(\"SELECT WFREQ, SAMPLEID FROM samples_metadata\", con=engine, columns=[META_COLS])"
   ]
  },
  {
   "cell_type": "code",
   "execution_count": 14,
   "metadata": {},
   "outputs": [],
   "source": [
    "sample_names = SAMPLES_df.columns\n",
    "sample_list_names = []\n",
    "for col in sample_names:\n",
    "    sample_list_names.append(col)\n",
    "\n",
    "# @app.route(\"/names\")\n",
    "names = sample_list_names[0:]"
   ]
  },
  {
   "cell_type": "code",
   "execution_count": 15,
   "metadata": {},
   "outputs": [],
   "source": [
    "otu_desc = []\n",
    "for item in OTU_df[\"lowest_taxonomic_unit_found\"]:\n",
    "    otu_desc.append(item)\n",
    "\n",
    "# @app.route(\"/otu\")\n",
    "otu = otu_desc"
   ]
  },
  {
   "cell_type": "code",
   "execution_count": 16,
   "metadata": {},
   "outputs": [],
   "source": [
    "meta_ = META_df\n",
    "meta_[\"index\"]= \"BB_\"+meta_[\"SAMPLEID\"].astype(str)\n",
    "meta_.set_index(\"index\", inplace=True)\n",
    "\n",
    "# @app.route(\"/metadata/<sample>\")\n",
    "metadata = meta_.to_dict(\"index\")"
   ]
  },
  {
   "cell_type": "code",
   "execution_count": 17,
   "metadata": {},
   "outputs": [],
   "source": [
    "wfreq_ = META_WFREQ\n",
    "wfreq_[\"index\"] = \"BB_\"+wfreq_[\"SAMPLEID\"].astype(str)\n",
    "wfreq_.drop([\"SAMPLEID\"], axis=1, inplace=True)\n",
    "wfreq_.set_index(\"index\", inplace=True)\n",
    "\n",
    "# @app.route(\"/wfreq/<sample>\")\n",
    "wfreq = wfreq_.to_dict(\"index\")   #  wfreq[\"BB_940\"][\"WFREQ\"]"
   ]
  },
  {
   "cell_type": "code",
   "execution_count": 18,
   "metadata": {},
   "outputs": [],
   "source": [
    "otu_id_sort = OTU_df.sort_index(ascending=False)"
   ]
  },
  {
   "cell_type": "code",
   "execution_count": 92,
   "metadata": {},
   "outputs": [],
   "source": [
    "#user_val = rnd.choice(names) \n",
    "sample_values = SAMPLES_df\n",
    "temp_samp_df = sample_values.sort_values(user_val, ascending=False)\n",
    "temp_list = temp_samp_df[user_val][:10]\n",
    "samp_data = temp_list.to_dict()\n",
    "new_dict = {\n",
    "    \"otu_ids\":list(samp_data.keys()),\n",
    "    \"sample_values\":list(samp_data.values())\n",
    "}"
   ]
  }
 ],
 "metadata": {
  "kernelspec": {
   "display_name": "Python [default]",
   "language": "python",
   "name": "python3"
  },
  "language_info": {
   "codemirror_mode": {
    "name": "ipython",
    "version": 3
   },
   "file_extension": ".py",
   "mimetype": "text/x-python",
   "name": "python",
   "nbconvert_exporter": "python",
   "pygments_lexer": "ipython3",
   "version": "3.6.5"
  }
 },
 "nbformat": 4,
 "nbformat_minor": 2
}
