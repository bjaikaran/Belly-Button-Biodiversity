{
 "cells": [
  {
   "cell_type": "code",
   "execution_count": 2,
   "metadata": {},
   "outputs": [],
   "source": [
    "#Import dependencies\n",
    "import pandas as pd\n",
    "import numpy as np\n",
    "import pyprind as pr\n",
    "import os"
   ]
  },
  {
   "cell_type": "code",
   "execution_count": null,
   "metadata": {},
   "outputs": [],
   "source": [
    "#Dynamically finding .CSVs from \"data_folder\" and putting into a list\n",
    "data_folder = \"DataSets/\"\n",
    "folder_path = os.listdir(data_folder)\n",
    "csv_list = []\n",
    "for item in folder_path:\n",
    "    if \".csv\" in item:\n",
    "        csv_list.append(item.replace(\".csv\",\"\"))"
   ]
  },
  {
   "cell_type": "code",
   "execution_count": null,
   "metadata": {},
   "outputs": [],
   "source": [
    "csv_list"
   ]
  },
  {
   "cell_type": "code",
   "execution_count": null,
   "metadata": {},
   "outputs": [],
   "source": [
    "# Creating a list that will contain/convert each CSV from \"data_folder\" to dataframe in list\n",
    "bbb_data = []\n",
    "for csv in csv_list:\n",
    "    bbb_data.append(pd.read_csv(data_folder+csv+\".csv\"))"
   ]
  },
  {
   "cell_type": "code",
   "execution_count": null,
   "metadata": {},
   "outputs": [],
   "source": [
    "# Separating dfs from list into own variable as item in \"csv_list\"\n",
    "for x in range(len(csv_list)):\n",
    "    data = csv_list[x]\n",
    "    globals()[\"%s\" %data]= bbb_data[x] "
   ]
  },
  {
   "cell_type": "code",
   "execution_count": null,
   "metadata": {},
   "outputs": [],
   "source": [
    "# Cleaning data to include indicies for ID items\n",
    "BBB_metadata.set_index(\"SAMPLEID\", inplace=True)\n",
    "BBB_otuid.set_index(\"otu_id\", inplace=True)\n",
    "BBB_samples.set_index(\"otu_id\", inplace=True)\n",
    "metadata_columns.set_index([\"COLUMN\",\"TYPE\",\"DESCRIPTION\"], inplace=True)"
   ]
  },
  {
   "cell_type": "code",
   "execution_count": null,
   "metadata": {},
   "outputs": [],
   "source": []
  }
 ],
 "metadata": {
  "kernelspec": {
   "display_name": "Python 3",
   "language": "python",
   "name": "python3"
  },
  "language_info": {
   "codemirror_mode": {
    "name": "ipython",
    "version": 3
   },
   "file_extension": ".py",
   "mimetype": "text/x-python",
   "name": "python",
   "nbconvert_exporter": "python",
   "pygments_lexer": "ipython3",
   "version": "3.6.5"
  }
 },
 "nbformat": 4,
 "nbformat_minor": 2
}
